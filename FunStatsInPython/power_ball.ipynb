{
  "nbformat": 4,
  "nbformat_minor": 0,
  "metadata": {
    "colab": {
      "provenance": []
    },
    "kernelspec": {
      "name": "python3",
      "display_name": "Python 3"
    },
    "language_info": {
      "name": "python"
    }
  },
  "cells": [
    {
      "cell_type": "code",
      "execution_count": null,
      "metadata": {
        "id": "BZJyz1C397ai"
      },
      "outputs": [],
      "source": [
        "# how to simulate 'Power Ball' lottery\n",
        "# how to play ? that's simple:\n",
        "# select 5 numbers from 1 to 69 as white balls\n",
        "# select 1 number from 1 to 26 as red ball"
      ]
    },
    {
      "cell_type": "code",
      "source": [
        "white_balls = [i + 1 for i in range(69)]"
      ],
      "metadata": {
        "id": "PyzvX_pw-Ip6"
      },
      "execution_count": 37,
      "outputs": []
    },
    {
      "cell_type": "code",
      "source": [
        "white_balls[:10]"
      ],
      "metadata": {
        "colab": {
          "base_uri": "https://localhost:8080/"
        },
        "id": "W6HuUb10_YJ4",
        "outputId": "b0331174-20fc-49ae-c0d8-65b406f86621"
      },
      "execution_count": 38,
      "outputs": [
        {
          "output_type": "execute_result",
          "data": {
            "text/plain": [
              "[1, 2, 3, 4, 5, 6, 7, 8, 9, 10]"
            ]
          },
          "metadata": {},
          "execution_count": 38
        }
      ]
    },
    {
      "cell_type": "code",
      "source": [
        "red_balls = [i + 1 for i in range(26)]"
      ],
      "metadata": {
        "id": "ZNvyqz6v_x9p"
      },
      "execution_count": 39,
      "outputs": []
    },
    {
      "cell_type": "code",
      "source": [
        "import random"
      ],
      "metadata": {
        "id": "VEHSKwE7_5cV"
      },
      "execution_count": 40,
      "outputs": []
    },
    {
      "cell_type": "code",
      "source": [
        "random.shuffle(white_balls)"
      ],
      "metadata": {
        "id": "pec_5HkWAbvW"
      },
      "execution_count": 41,
      "outputs": []
    },
    {
      "cell_type": "code",
      "source": [
        "random.shuffle(red_balls)"
      ],
      "metadata": {
        "id": "DmT5OkEiAn-9"
      },
      "execution_count": 42,
      "outputs": []
    },
    {
      "cell_type": "code",
      "source": [
        "print(white_balls[:5], ' ',red_balls[0])"
      ],
      "metadata": {
        "colab": {
          "base_uri": "https://localhost:8080/"
        },
        "id": "NIMLOq_PAtzy",
        "outputId": "cb3fbcfc-c7e8-4365-b1c9-8d55f51c750e"
      },
      "execution_count": 43,
      "outputs": [
        {
          "output_type": "stream",
          "name": "stdout",
          "text": [
            "[42, 13, 37, 6, 44]   19\n"
          ]
        }
      ]
    },
    {
      "cell_type": "code",
      "source": [
        "# if you what to buy 5 tikets\n",
        "for i in range(5):\n",
        "  random.shuffle(white_balls)\n",
        "  random.shuffle(red_balls)\n",
        "  print(white_balls[:5], ' ',red_balls[0])"
      ],
      "metadata": {
        "colab": {
          "base_uri": "https://localhost:8080/"
        },
        "id": "MuDUqPtVBIhd",
        "outputId": "2ab22cca-3bec-4483-a6cf-c0dca3d79894"
      },
      "execution_count": 44,
      "outputs": [
        {
          "output_type": "stream",
          "name": "stdout",
          "text": [
            "[45, 47, 32, 1, 53]   16\n",
            "[7, 25, 28, 39, 50]   16\n",
            "[2, 9, 25, 51, 54]   1\n",
            "[12, 63, 2, 7, 48]   13\n",
            "[46, 25, 3, 54, 52]   6\n"
          ]
        }
      ]
    }
  ]
}