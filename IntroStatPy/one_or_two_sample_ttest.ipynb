{
  "nbformat": 4,
  "nbformat_minor": 0,
  "metadata": {
    "colab": {
      "name": "one_or_two_sample_ttest.ipynb",
      "provenance": []
    },
    "kernelspec": {
      "name": "python3",
      "display_name": "Python 3"
    },
    "language_info": {
      "name": "python"
    }
  },
  "cells": [
    {
      "cell_type": "code",
      "execution_count": 1,
      "metadata": {
        "id": "qBv4WNSj5T7R"
      },
      "outputs": [],
      "source": [
        "# one or two group t test"
      ]
    },
    {
      "cell_type": "code",
      "source": [
        "from scipy import stats\n",
        "import numpy as np \n",
        "sample1 = np.array([11,9,10,11,10,12,9,11,12,9])\n",
        "sample2 = np.array([11,13,10,13,12,9,11,12,12,11])"
      ],
      "metadata": {
        "id": "X0zP2SgB5Yfl"
      },
      "execution_count": 3,
      "outputs": []
    },
    {
      "cell_type": "code",
      "source": [
        "# Null Hypothesis : mean = 0\n",
        "stats.ttest_1samp(sample1, popmean=0)"
      ],
      "metadata": {
        "colab": {
          "base_uri": "https://localhost:8080/"
        },
        "id": "p1kwcd3A5m4D",
        "outputId": "e2a5b882-0a32-464d-eeb4-70886794f933"
      },
      "execution_count": 4,
      "outputs": [
        {
          "output_type": "execute_result",
          "data": {
            "text/plain": [
              "Ttest_1sampResult(statistic=28.018427116176888, pvalue=4.5669138533315234e-10)"
            ]
          },
          "metadata": {},
          "execution_count": 4
        }
      ]
    },
    {
      "cell_type": "code",
      "source": [
        "# two sample indenpendence test\n",
        "stats.ttest_ind(sample1, sample2)"
      ],
      "metadata": {
        "colab": {
          "base_uri": "https://localhost:8080/"
        },
        "id": "qwFgE0NK56WT",
        "outputId": "2ebedb31-b783-43da-be0c-79b101cbb606"
      },
      "execution_count": 5,
      "outputs": [
        {
          "output_type": "execute_result",
          "data": {
            "text/plain": [
              "Ttest_indResult(statistic=-1.8325416653445783, pvalue=0.08346710398411555)"
            ]
          },
          "metadata": {},
          "execution_count": 5
        }
      ]
    },
    {
      "cell_type": "code",
      "source": [
        "import matplotlib.pyplot as plt\n",
        "plt.scatter(sample1, sample2)\n",
        "plt.xlabel('sample1')\n",
        "plt.ylabel('sample2')\n",
        "plt.show() # don't see obvious trend or correlation"
      ],
      "metadata": {
        "colab": {
          "base_uri": "https://localhost:8080/",
          "height": 279
        },
        "id": "VlOPLNGm6Icj",
        "outputId": "26bedb28-555c-4d0b-e2be-92165cbad2c8"
      },
      "execution_count": 7,
      "outputs": [
        {
          "output_type": "display_data",
          "data": {
            "image/png": "[encoded data removed]",
            "text/plain": [
              "<Figure size 432x288 with 1 Axes>"
            ]
          },
          "metadata": {
            "needs_background": "light"
          }
        }
      ]
    },
    {
      "cell_type": "code",
      "source": [
        "# https://stackoverflow.com/questions/60665307/one-sample-two-sample-t-tests-in-python"
      ],
      "metadata": {
        "id": "6z8lXcD46Zya"
      },
      "execution_count": null,
      "outputs": []
    }
  ]
}