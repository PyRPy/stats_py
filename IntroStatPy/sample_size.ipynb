{
  "nbformat": 4,
  "nbformat_minor": 0,
  "metadata": {
    "colab": {
      "name": "sample_size.ipynb",
      "provenance": []
    },
    "kernelspec": {
      "name": "python3",
      "display_name": "Python 3"
    },
    "language_info": {
      "name": "python"
    }
  },
  "cells": [
    {
      "cell_type": "code",
      "execution_count": 1,
      "metadata": {
        "id": "PdaNI3Obk6yg"
      },
      "outputs": [],
      "source": [
        "# sample size"
      ]
    },
    {
      "cell_type": "code",
      "source": [
        "from statsmodels.stats import power"
      ],
      "metadata": {
        "id": "gmLlDuTllBAj"
      },
      "execution_count": 2,
      "outputs": []
    },
    {
      "cell_type": "code",
      "source": [
        "nobs = power.tt_ind_solve_power(effect_size = 0.5,\n",
        "                            alpha = 0.05,\n",
        "                            power = 0.8)\n",
        "nobs"
      ],
      "metadata": {
        "colab": {
          "base_uri": "https://localhost:8080/"
        },
        "id": "dfJ_oGZIlGls",
        "outputId": "36f2ae9d-bdc2-422f-a07c-a9dc87a93a42"
      },
      "execution_count": 5,
      "outputs": [
        {
          "output_type": "execute_result",
          "data": {
            "text/plain": [
              "63.765611775409525"
            ]
          },
          "metadata": {},
          "execution_count": 5
        }
      ]
    },
    {
      "cell_type": "code",
      "source": [
        "# another version\n",
        "effect_size = power.tt_ind_solve_power(alpha = 0.05,\n",
        "                                       power = 0.8, \n",
        "                                       nobs1=25)\n",
        "effect_size"
      ],
      "metadata": {
        "colab": {
          "base_uri": "https://localhost:8080/"
        },
        "id": "HgJQunpGlUjp",
        "outputId": "a0151934-d452-4101-cb11-698b19a60bab"
      },
      "execution_count": 6,
      "outputs": [
        {
          "output_type": "execute_result",
          "data": {
            "text/plain": [
              "0.8087077886680412"
            ]
          },
          "metadata": {},
          "execution_count": 6
        }
      ]
    }
  ]
}