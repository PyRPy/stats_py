{
  "nbformat": 4,
  "nbformat_minor": 0,
  "metadata": {
    "colab": {
      "name": "wilcoxon_signed_rank_test.ipynb",
      "provenance": []
    },
    "kernelspec": {
      "name": "python3",
      "display_name": "Python 3"
    },
    "language_info": {
      "name": "python"
    }
  },
  "cells": [
    {
      "cell_type": "code",
      "execution_count": 1,
      "metadata": {
        "id": "7L8dTw3a8VAj"
      },
      "outputs": [],
      "source": [
        "# wilcoxon signed rank test"
      ]
    },
    {
      "cell_type": "code",
      "source": [
        "import numpy as np \n",
        "from scipy import stats "
      ],
      "metadata": {
        "id": "JaxolChL8bvd"
      },
      "execution_count": 2,
      "outputs": []
    },
    {
      "cell_type": "code",
      "source": [
        "np.random.seed(1)\n",
        "data1 = 5 * np.random.randn(100) + 50\n",
        "data2 = 5 * np.random.randn(100) + 51"
      ],
      "metadata": {
        "id": "CIzl-SNk8pq9"
      },
      "execution_count": 3,
      "outputs": []
    },
    {
      "cell_type": "code",
      "source": [
        "# compare samples\n",
        "stat, p = stats.wilcoxon(data1, data2)\n",
        "print('Statistics = %.3f, p=%.3f' % (stat, p))"
      ],
      "metadata": {
        "colab": {
          "base_uri": "https://localhost:8080/"
        },
        "id": "FSfI6Jzw88iu",
        "outputId": "a76e9369-f232-415b-f487-e3c888f4edb6"
      },
      "execution_count": 4,
      "outputs": [
        {
          "output_type": "stream",
          "name": "stdout",
          "text": [
            "Statistics = 1886.000, p=0.028\n"
          ]
        }
      ]
    },
    {
      "cell_type": "code",
      "source": [
        "# test\n",
        "alpha = 0.05\n",
        "if p > alpha:\n",
        "  print('fail to reject Ho, no difference') \n",
        "else:\n",
        "  print('reject Ho, difference is significant.')"
      ],
      "metadata": {
        "colab": {
          "base_uri": "https://localhost:8080/"
        },
        "id": "92wqsM-o9SuW",
        "outputId": "19ea02ac-859d-4aca-ea12-aeb3e3131f94"
      },
      "execution_count": 5,
      "outputs": [
        {
          "output_type": "stream",
          "name": "stdout",
          "text": [
            "reject Ho, difference is significant.\n"
          ]
        }
      ]
    },
    {
      "cell_type": "code",
      "source": [
        "# https://machinelearningmastery.com/nonparametric-statistical-significance-tests-in-python/"
      ],
      "metadata": {
        "id": "3X14GwxUtaiC"
      },
      "execution_count": 1,
      "outputs": []
    }
  ]
}