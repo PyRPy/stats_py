{
  "nbformat": 4,
  "nbformat_minor": 0,
  "metadata": {
    "colab": {
      "name": "contingency_table.ipynb",
      "provenance": []
    },
    "kernelspec": {
      "name": "python3",
      "display_name": "Python 3"
    },
    "language_info": {
      "name": "python"
    }
  },
  "cells": [
    {
      "cell_type": "code",
      "execution_count": 11,
      "metadata": {
        "id": "xnSNXGN3GYOZ"
      },
      "outputs": [],
      "source": [
        "# one-way chi-square test\n",
        "import scipy.stats as stats\n",
        "import numpy as np "
      ]
    },
    {
      "cell_type": "code",
      "source": [
        "# draw lots from 6 persons, each get\n",
        "data = [10, 6, 5, 4, 5, 3]"
      ],
      "metadata": {
        "id": "qmFkAj8BGbsP"
      },
      "execution_count": 9,
      "outputs": []
    },
    {
      "cell_type": "code",
      "source": [
        "V, p = stats.chisquare(data)"
      ],
      "metadata": {
        "id": "g2guJuE4Ghlv"
      },
      "execution_count": 5,
      "outputs": []
    },
    {
      "cell_type": "code",
      "source": [
        "# print p-value\n",
        "print(p)"
      ],
      "metadata": {
        "colab": {
          "base_uri": "https://localhost:8080/"
        },
        "id": "Lg9SjRvBGuwO",
        "outputId": "264debc8-ca88-4e81-9d26-400977086f29"
      },
      "execution_count": 8,
      "outputs": [
        {
          "output_type": "stream",
          "name": "stdout",
          "text": [
            "0.37313038594870584\n"
          ]
        }
      ]
    },
    {
      "cell_type": "code",
      "source": [
        "# contingency table\n",
        "data = np.array([[43, 9],\n",
        "                [44, 4]])"
      ],
      "metadata": {
        "id": "YN8jKFWTGv7T"
      },
      "execution_count": 15,
      "outputs": []
    },
    {
      "cell_type": "code",
      "source": [
        "# chi-square test\n",
        "V, p, dof, exptected = stats.chi2_contingency(data)\n",
        "print(\"p-value: \", f'{p:.3f}')"
      ],
      "metadata": {
        "colab": {
          "base_uri": "https://localhost:8080/"
        },
        "id": "zTnwX1opQuHa",
        "outputId": "4c4a171e-4f06-4765-b3be-7c0c3c267dc8"
      },
      "execution_count": 18,
      "outputs": [
        {
          "output_type": "stream",
          "name": "stdout",
          "text": [
            "p-value:  0.300\n"
          ]
        }
      ]
    }
  ]
}