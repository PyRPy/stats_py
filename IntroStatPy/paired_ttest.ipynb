{
  "nbformat": 4,
  "nbformat_minor": 0,
  "metadata": {
    "colab": {
      "name": "paired_ttest.ipynb",
      "provenance": []
    },
    "kernelspec": {
      "name": "python3",
      "display_name": "Python 3"
    },
    "language_info": {
      "name": "python"
    }
  },
  "cells": [
    {
      "cell_type": "code",
      "execution_count": 1,
      "metadata": {
        "id": "c0YcZiIiRMsJ"
      },
      "outputs": [],
      "source": [
        "# paired t test"
      ]
    },
    {
      "cell_type": "code",
      "source": [
        "import numpy as np\n",
        "from scipy import stats "
      ],
      "metadata": {
        "id": "38ZzpRVbRPpd"
      },
      "execution_count": 2,
      "outputs": []
    },
    {
      "cell_type": "code",
      "source": [
        "# data step\n",
        "np.random.seed(1234)\n",
        "data = np.random.randn(10) + 0.1 \n",
        "data1 = np.random.randn(10) * 5 \n",
        "data2 = data1 + data "
      ],
      "metadata": {
        "id": "7uCFZ04cRT0X"
      },
      "execution_count": 3,
      "outputs": []
    },
    {
      "cell_type": "code",
      "source": [
        "# test\n",
        "stats.ttest_1samp(data, 0)"
      ],
      "metadata": {
        "colab": {
          "base_uri": "https://localhost:8080/"
        },
        "id": "C3awhjYnRoc3",
        "outputId": "40948822-b2ff-4bbc-9d29-e56d38120d19"
      },
      "execution_count": 4,
      "outputs": [
        {
          "output_type": "execute_result",
          "data": {
            "text/plain": [
              "Ttest_1sampResult(statistic=-0.12458492298731401, pvalue=0.9035904508547086)"
            ]
          },
          "metadata": {},
          "execution_count": 4
        }
      ]
    },
    {
      "cell_type": "code",
      "source": [
        "np.mean(data)"
      ],
      "metadata": {
        "colab": {
          "base_uri": "https://localhost:8080/"
        },
        "id": "HRMCef83RxBz",
        "outputId": "11368454-450b-48d3-801b-b4d350b77c8e"
      },
      "execution_count": 5,
      "outputs": [
        {
          "output_type": "execute_result",
          "data": {
            "text/plain": [
              "-0.04368349244677692"
            ]
          },
          "metadata": {},
          "execution_count": 5
        }
      ]
    },
    {
      "cell_type": "code",
      "source": [
        "data"
      ],
      "metadata": {
        "colab": {
          "base_uri": "https://localhost:8080/"
        },
        "id": "7EoPVgrVR4iM",
        "outputId": "966de04b-7c8d-473b-bdf9-bad8229bbc3f"
      },
      "execution_count": 6,
      "outputs": [
        {
          "output_type": "execute_result",
          "data": {
            "text/plain": [
              "array([ 0.57143516, -1.09097569,  1.53270697, -0.2126519 , -0.62058873,\n",
              "        0.98716294,  0.95958841, -0.5365235 ,  0.11569637, -2.14268495])"
            ]
          },
          "metadata": {},
          "execution_count": 6
        }
      ]
    },
    {
      "cell_type": "code",
      "source": [
        "stats.ttest_rel(data2, data1)"
      ],
      "metadata": {
        "colab": {
          "base_uri": "https://localhost:8080/"
        },
        "id": "1EasAafER7KQ",
        "outputId": "606f4c67-3d68-402d-a98c-d28101d2a225"
      },
      "execution_count": 7,
      "outputs": [
        {
          "output_type": "execute_result",
          "data": {
            "text/plain": [
              "Ttest_relResult(statistic=-0.1245849229873135, pvalue=0.9035904508547089)"
            ]
          },
          "metadata": {},
          "execution_count": 7
        }
      ]
    },
    {
      "cell_type": "code",
      "source": [
        "# independent test\n",
        "stats.ttest_ind(data1, data2)"
      ],
      "metadata": {
        "colab": {
          "base_uri": "https://localhost:8080/"
        },
        "id": "QkvCrRIdSK6f",
        "outputId": "c31b933b-8a51-4769-e163-667774849dea"
      },
      "execution_count": 8,
      "outputs": [
        {
          "output_type": "execute_result",
          "data": {
            "text/plain": [
              "Ttest_indResult(statistic=0.016280259660677216, pvalue=0.9871899046495229)"
            ]
          },
          "metadata": {},
          "execution_count": 8
        }
      ]
    }
  ]
}