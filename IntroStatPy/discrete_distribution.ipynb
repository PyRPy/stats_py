{
  "nbformat": 4,
  "nbformat_minor": 0,
  "metadata": {
    "colab": {
      "name": "discrete_distribution.ipynb",
      "provenance": []
    },
    "kernelspec": {
      "name": "python3",
      "display_name": "Python 3"
    },
    "language_info": {
      "name": "python"
    }
  },
  "cells": [
    {
      "cell_type": "code",
      "execution_count": 1,
      "metadata": {
        "colab": {
          "base_uri": "https://localhost:8080/"
        },
        "id": "9BARcJJ05hvK",
        "outputId": "dd2e35d5-90d0-4ef7-e660-ee6b1b4dcc7e"
      },
      "outputs": [
        {
          "output_type": "execute_result",
          "data": {
            "text/plain": [
              "array([0, 1, 2, 3, 4, 5, 6, 7, 8, 9])"
            ]
          },
          "metadata": {},
          "execution_count": 1
        }
      ],
      "source": [
        "# discrete distributions\n",
        "import numpy as np\n",
        "x = np.arange(10)\n",
        "x"
      ]
    },
    {
      "cell_type": "code",
      "source": [
        "np.mean(x)"
      ],
      "metadata": {
        "colab": {
          "base_uri": "https://localhost:8080/"
        },
        "id": "gk8jN6J57WqV",
        "outputId": "a9591765-33fe-4f4f-bfcf-a78398625824"
      },
      "execution_count": 2,
      "outputs": [
        {
          "output_type": "execute_result",
          "data": {
            "text/plain": [
              "4.5"
            ]
          },
          "metadata": {},
          "execution_count": 2
        }
      ]
    },
    {
      "cell_type": "code",
      "source": [
        "xNaN = np.hstack((x, np.nan)) # append a 'not a number'\n",
        "xNaN"
      ],
      "metadata": {
        "colab": {
          "base_uri": "https://localhost:8080/"
        },
        "id": "rxIG5Xrl7aax",
        "outputId": "1f048e10-3bb8-4405-95df-07354415c916"
      },
      "execution_count": 4,
      "outputs": [
        {
          "output_type": "execute_result",
          "data": {
            "text/plain": [
              "array([ 0.,  1.,  2.,  3.,  4.,  5.,  6.,  7.,  8.,  9., nan])"
            ]
          },
          "metadata": {},
          "execution_count": 4
        }
      ]
    },
    {
      "cell_type": "code",
      "source": [
        "np.mean(xNaN)"
      ],
      "metadata": {
        "colab": {
          "base_uri": "https://localhost:8080/"
        },
        "id": "4H-veG9Y7kuW",
        "outputId": "f73438b7-8874-46f1-9e56-fa2d3643b727"
      },
      "execution_count": 5,
      "outputs": [
        {
          "output_type": "execute_result",
          "data": {
            "text/plain": [
              "nan"
            ]
          },
          "metadata": {},
          "execution_count": 5
        }
      ]
    },
    {
      "cell_type": "code",
      "source": [
        "np.nanmean(xNaN)"
      ],
      "metadata": {
        "colab": {
          "base_uri": "https://localhost:8080/"
        },
        "id": "R3nuWqm57xpO",
        "outputId": "ed835fb1-47ea-4d70-95de-a85ea189399f"
      },
      "execution_count": 6,
      "outputs": [
        {
          "output_type": "execute_result",
          "data": {
            "text/plain": [
              "4.5"
            ]
          },
          "metadata": {},
          "execution_count": 6
        }
      ]
    },
    {
      "cell_type": "code",
      "source": [
        "np.median(x)"
      ],
      "metadata": {
        "colab": {
          "base_uri": "https://localhost:8080/"
        },
        "id": "5XNT3q3M71Dh",
        "outputId": "c570da02-adab-40a6-fc2c-82bfe1a147fa"
      },
      "execution_count": 7,
      "outputs": [
        {
          "output_type": "execute_result",
          "data": {
            "text/plain": [
              "4.5"
            ]
          },
          "metadata": {},
          "execution_count": 7
        }
      ]
    },
    {
      "cell_type": "code",
      "source": [
        "# to find mode\n",
        "from scipy import stats "
      ],
      "metadata": {
        "id": "qi1jT9sN74OW"
      },
      "execution_count": 8,
      "outputs": []
    },
    {
      "cell_type": "code",
      "source": [
        "data = [1, 3, 4, 4, 7]\n",
        "stats.mode(data)"
      ],
      "metadata": {
        "colab": {
          "base_uri": "https://localhost:8080/"
        },
        "id": "-cie3kfR8bkT",
        "outputId": "32a49e4a-ef29-4404-98f3-f242e12d703c"
      },
      "execution_count": 9,
      "outputs": [
        {
          "output_type": "execute_result",
          "data": {
            "text/plain": [
              "ModeResult(mode=array([4]), count=array([2]))"
            ]
          },
          "metadata": {},
          "execution_count": 9
        }
      ]
    },
    {
      "cell_type": "code",
      "source": [
        "# geometric mean\n",
        "x = np.arange(1, 101)\n",
        "stats.gmean(x)"
      ],
      "metadata": {
        "colab": {
          "base_uri": "https://localhost:8080/"
        },
        "id": "LFdQaif_8gr8",
        "outputId": "6b48685a-f403-498c-e18e-b14b95330195"
      },
      "execution_count": 10,
      "outputs": [
        {
          "output_type": "execute_result",
          "data": {
            "text/plain": [
              "37.992689344834304"
            ]
          },
          "metadata": {},
          "execution_count": 10
        }
      ]
    },
    {
      "cell_type": "code",
      "source": [
        "dat = np.arange(7, 14)\n",
        "np.std(dat, ddof = 0)"
      ],
      "metadata": {
        "colab": {
          "base_uri": "https://localhost:8080/"
        },
        "id": "gVHnTkuJ8vHP",
        "outputId": "8262485c-0073-4530-d799-b67299f16b76"
      },
      "execution_count": 11,
      "outputs": [
        {
          "output_type": "execute_result",
          "data": {
            "text/plain": [
              "2.0"
            ]
          },
          "metadata": {},
          "execution_count": 11
        }
      ]
    },
    {
      "cell_type": "code",
      "source": [
        "np.std(dat, ddof = 1)"
      ],
      "metadata": {
        "colab": {
          "base_uri": "https://localhost:8080/"
        },
        "id": "e9XFQmXx9NFA",
        "outputId": "a16c4cfd-8b2c-4e48-818d-bde55910f34f"
      },
      "execution_count": 13,
      "outputs": [
        {
          "output_type": "execute_result",
          "data": {
            "text/plain": [
              "2.160246899469287"
            ]
          },
          "metadata": {},
          "execution_count": 13
        }
      ]
    },
    {
      "cell_type": "code",
      "source": [
        "# create a distribution\n",
        "import numpy as np \n",
        "from scipy import stats \n",
        "myDF = stats.norm(5, 3)\n",
        "x = np.linspace(-5, 15, 101)\n",
        "y = myDF.cdf(x)"
      ],
      "metadata": {
        "id": "UFoDpKDD9QQ0"
      },
      "execution_count": 14,
      "outputs": []
    },
    {
      "cell_type": "code",
      "source": [
        "# bernoulli distribution"
      ],
      "metadata": {
        "id": "WInp9ugv92Zy"
      },
      "execution_count": 16,
      "outputs": []
    },
    {
      "cell_type": "code",
      "source": [
        "from scipy import stats \n",
        "p = 0.5\n",
        "bern = stats.bernoulli(p)\n",
        "p_tails = bern.pmf(0)\n",
        "p_heads = bern.pmf(1)\n",
        "trials = bern.rvs(10)"
      ],
      "metadata": {
        "id": "qFCM1nLZ-I3t"
      },
      "execution_count": 17,
      "outputs": []
    },
    {
      "cell_type": "code",
      "source": [
        "trials"
      ],
      "metadata": {
        "colab": {
          "base_uri": "https://localhost:8080/"
        },
        "id": "YPsJE5XG-fZL",
        "outputId": "71ce50e1-f977-4515-9469-15f225b4da16"
      },
      "execution_count": 18,
      "outputs": [
        {
          "output_type": "execute_result",
          "data": {
            "text/plain": [
              "array([1, 0, 0, 0, 0, 0, 1, 0, 0, 1])"
            ]
          },
          "metadata": {},
          "execution_count": 18
        }
      ]
    },
    {
      "cell_type": "code",
      "source": [
        "# binomials\n",
        "import numpy as np \n",
        "from scipy import stats "
      ],
      "metadata": {
        "id": "_yfFldtd-g06"
      },
      "execution_count": 19,
      "outputs": []
    },
    {
      "cell_type": "code",
      "source": [
        "(p, num) = (0.5, 4)\n",
        "bin = stats.binom(num, p)"
      ],
      "metadata": {
        "id": "uV_tQz7g-wel"
      },
      "execution_count": 20,
      "outputs": []
    },
    {
      "cell_type": "code",
      "source": [
        "np.arange(5) # when x = 0, 1, 2, 3, 4"
      ],
      "metadata": {
        "colab": {
          "base_uri": "https://localhost:8080/"
        },
        "id": "Hx678xeA_ezF",
        "outputId": "a571c0a2-fe9e-4204-d817-4d9986db4600"
      },
      "execution_count": 23,
      "outputs": [
        {
          "output_type": "execute_result",
          "data": {
            "text/plain": [
              "array([0, 1, 2, 3, 4])"
            ]
          },
          "metadata": {},
          "execution_count": 23
        }
      ]
    },
    {
      "cell_type": "code",
      "source": [
        "bin.pmf(np.arange(5))"
      ],
      "metadata": {
        "colab": {
          "base_uri": "https://localhost:8080/"
        },
        "id": "p4UkLDuw_IdX",
        "outputId": "9ca48acd-ede2-4779-a0b0-1b1f14702fcb"
      },
      "execution_count": 21,
      "outputs": [
        {
          "output_type": "execute_result",
          "data": {
            "text/plain": [
              "array([0.0625, 0.25  , 0.375 , 0.25  , 0.0625])"
            ]
          },
          "metadata": {},
          "execution_count": 21
        }
      ]
    },
    {
      "cell_type": "code",
      "source": [
        "np.sum(bin.pmf(np.arange(5))) # sum is very close to 1"
      ],
      "metadata": {
        "colab": {
          "base_uri": "https://localhost:8080/"
        },
        "id": "nFBIk_Yv_W9j",
        "outputId": "9f6d7c3b-7f15-4375-e132-b85a5ddabfa0"
      },
      "execution_count": 24,
      "outputs": [
        {
          "output_type": "execute_result",
          "data": {
            "text/plain": [
              "1.0000000000000002"
            ]
          },
          "metadata": {},
          "execution_count": 24
        }
      ]
    },
    {
      "cell_type": "code",
      "source": [
        "%pylab inline\n",
        "import scipy.stats as stats\n",
        "# https://github.com/thomas-haslwanter/statsintro_python/blob/master/ipynb/6_distDiscrete.ipynb"
      ],
      "metadata": {
        "colab": {
          "base_uri": "https://localhost:8080/"
        },
        "id": "2UYZvHOt_o9n",
        "outputId": "f59c9001-408b-4e56-cd47-f52363e3ed3b"
      },
      "execution_count": 27,
      "outputs": [
        {
          "output_type": "stream",
          "name": "stdout",
          "text": [
            "Populating the interactive namespace from numpy and matplotlib\n"
          ]
        }
      ]
    },
    {
      "cell_type": "code",
      "source": [
        "bd1 = stats.binom(20, 0.5)\n",
        "bd2 = stats.binom(20, 0.7)\n",
        "bd3 = stats.binom(40, 0.5)\n",
        "k = arange(40)\n",
        "plot(k, bd1.pmf(k), 'o-b')\n",
        "plot(k, bd2.pmf(k), 'd-r')\n",
        "plot(k, bd3.pmf(k), 's-g')\n",
        "title('Binomial distribition')\n",
        "legend(['p=0.5 and n=20', 'p=0.7 and n=20', 'p=0.5 and n=40'])\n",
        "xlabel('X')\n",
        "ylabel('P(X)')"
      ],
      "metadata": {
        "colab": {
          "base_uri": "https://localhost:8080/",
          "height": 313
        },
        "id": "Nn9-CDhVBF2o",
        "outputId": "b1406f09-1726-49f7-81eb-b3f21cd1a53e"
      },
      "execution_count": 26,
      "outputs": [
        {
          "output_type": "execute_result",
          "data": {
            "text/plain": [
              "Text(0, 0.5, 'P(X)')"
            ]
          },
          "metadata": {},
          "execution_count": 26
        },
        {
          "output_type": "display_data",
          "data": {
            "image/png": "[encoded data removed]",
            "text/plain": [
              "<Figure size 432x288 with 1 Axes>"
            ]
          },
          "metadata": {
            "needs_background": "light"
          }
        }
      ]
    },
    {
      "cell_type": "code",
      "source": [
        "# Poisson Distribution\n",
        "pois = stats.poisson(10)\n",
        "plot(k, pois.pmf(k), 'x-')\n",
        "title('Poisson distribution - PMF')\n",
        "xlabel('X')\n",
        "ylabel('P(X)')"
      ],
      "metadata": {
        "colab": {
          "base_uri": "https://localhost:8080/",
          "height": 313
        },
        "id": "gT3Kd-6oBi6j",
        "outputId": "da56b457-d1eb-4033-a11b-3c5ae4706a22"
      },
      "execution_count": 28,
      "outputs": [
        {
          "output_type": "execute_result",
          "data": {
            "text/plain": [
              "Text(0, 0.5, 'P(X)')"
            ]
          },
          "metadata": {},
          "execution_count": 28
        },
        {
          "output_type": "display_data",
          "data": {
            "image/png": "[encoded data removed]",
            "text/plain": [
              "<Figure size 432x288 with 1 Axes>"
            ]
          },
          "metadata": {
            "needs_background": "light"
          }
        }
      ]
    },
    {
      "cell_type": "code",
      "source": [
        "# CDF for poisson distribution\n",
        "k = arange(30)\n",
        "plot(k, pois.cdf(k))\n",
        "title('Poisson distribition - CDF')\n",
        "xlabel('X')\n",
        "ylabel('P(X)')"
      ],
      "metadata": {
        "colab": {
          "base_uri": "https://localhost:8080/",
          "height": 313
        },
        "id": "OnEIwPsOB8xJ",
        "outputId": "f1034460-b686-467a-d6e0-5eab5f26c5f3"
      },
      "execution_count": 29,
      "outputs": [
        {
          "output_type": "execute_result",
          "data": {
            "text/plain": [
              "Text(0, 0.5, 'P(X)')"
            ]
          },
          "metadata": {},
          "execution_count": 29
        },
        {
          "output_type": "display_data",
          "data": {
            "image/png": "[encoded data removed]",
            "text/plain": [
              "<Figure size 432x288 with 1 Axes>"
            ]
          },
          "metadata": {
            "needs_background": "light"
          }
        }
      ]
    },
    {
      "cell_type": "code",
      "source": [
        "y = linspace(0,1,100)\n",
        "plot(y, pois.ppf(y))\n",
        "title('Poisson distribition - PPF')\n",
        "xlabel('X')\n",
        "ylabel('P(X)')"
      ],
      "metadata": {
        "colab": {
          "base_uri": "https://localhost:8080/",
          "height": 313
        },
        "id": "NKj2DZphCSp1",
        "outputId": "7566e8a5-0d45-400b-8d70-59ebacc12a9a"
      },
      "execution_count": 30,
      "outputs": [
        {
          "output_type": "execute_result",
          "data": {
            "text/plain": [
              "Text(0, 0.5, 'P(X)')"
            ]
          },
          "metadata": {},
          "execution_count": 30
        },
        {
          "output_type": "display_data",
          "data": {
            "image/png": "[encoded data removed]",
            "text/plain": [
              "<Figure size 432x288 with 1 Axes>"
            ]
          },
          "metadata": {
            "needs_background": "light"
          }
        }
      ]
    },
    {
      "cell_type": "code",
      "source": [
        "# what is ppf ?\n",
        "from scipy.stats import norm\n",
        "print(norm.ppf(0.95))\n",
        "print(norm.cdf(1.645))"
      ],
      "metadata": {
        "colab": {
          "base_uri": "https://localhost:8080/"
        },
        "id": "2QVeSMcWCvdk",
        "outputId": "b4687f12-9262-41ac-8af1-a803e978ec9d"
      },
      "execution_count": 32,
      "outputs": [
        {
          "output_type": "stream",
          "name": "stdout",
          "text": [
            "1.6448536269514722\n",
            "0.9500150944608786\n"
          ]
        }
      ]
    }
  ]
}