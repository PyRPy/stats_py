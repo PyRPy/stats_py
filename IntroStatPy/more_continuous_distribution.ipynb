{
  "nbformat": 4,
  "nbformat_minor": 0,
  "metadata": {
    "colab": {
      "name": "more_continuous_distribution.ipynb",
      "provenance": []
    },
    "kernelspec": {
      "name": "python3",
      "display_name": "Python 3"
    },
    "language_info": {
      "name": "python"
    }
  },
  "cells": [
    {
      "cell_type": "code",
      "execution_count": 1,
      "metadata": {
        "colab": {
          "base_uri": "https://localhost:8080/"
        },
        "id": "3RRr9czn297D",
        "outputId": "0d3329b5-d077-43bb-ee7a-ba93029978ff"
      },
      "outputs": [
        {
          "output_type": "execute_result",
          "data": {
            "text/plain": [
              "0.11816486815719918"
            ]
          },
          "metadata": {},
          "execution_count": 1
        }
      ],
      "source": [
        "# normal distribution\n",
        "from scipy import stats\n",
        "nd = stats.norm(3.5, 0.76)\n",
        "nd.cdf(2.6)"
      ]
    },
    {
      "cell_type": "code",
      "source": [
        "# t distribution\n",
        "import numpy as np\n",
        "n = 20\n",
        "df = n - 1\n",
        "alpha = 0.05"
      ],
      "metadata": {
        "id": "reSioMNq3QqL"
      },
      "execution_count": 2,
      "outputs": []
    },
    {
      "cell_type": "code",
      "source": [
        "stats.t(df).isf(alpha/2)"
      ],
      "metadata": {
        "colab": {
          "base_uri": "https://localhost:8080/"
        },
        "id": "BTVybPe63kkP",
        "outputId": "bd2ff839-359f-4f4f-ce61-14d7ab5413d4"
      },
      "execution_count": 6,
      "outputs": [
        {
          "output_type": "execute_result",
          "data": {
            "text/plain": [
              "2.0930240544082634"
            ]
          },
          "metadata": {},
          "execution_count": 6
        }
      ]
    },
    {
      "cell_type": "code",
      "source": [
        "stats.norm.isf(alpha/2)"
      ],
      "metadata": {
        "colab": {
          "base_uri": "https://localhost:8080/"
        },
        "id": "C1FCxqhe3npG",
        "outputId": "20fb2e86-cd8e-4aba-b1d0-47233a97ed8d"
      },
      "execution_count": 7,
      "outputs": [
        {
          "output_type": "execute_result",
          "data": {
            "text/plain": [
              "1.9599639845400545"
            ]
          },
          "metadata": {},
          "execution_count": 7
        }
      ]
    },
    {
      "cell_type": "code",
      "source": [
        "# generate some data\n",
        "data = np.random.randn(25)\n",
        "data\n",
        "np.mean(data)"
      ],
      "metadata": {
        "colab": {
          "base_uri": "https://localhost:8080/"
        },
        "id": "jRrHAMUO4VXW",
        "outputId": "3a2bd3e6-7ea2-44c4-b80d-1394de15029a"
      },
      "execution_count": 9,
      "outputs": [
        {
          "output_type": "execute_result",
          "data": {
            "text/plain": [
              "-0.24711175175785244"
            ]
          },
          "metadata": {},
          "execution_count": 9
        }
      ]
    },
    {
      "cell_type": "code",
      "source": [
        "# get a 95% CI or confidence interval\n",
        "alpha = 0.05\n",
        "df = len(data) - 1\n",
        "ci = stats.t.interval(alpha, df, loc=np.mean(data), scale=stats.sem(data))"
      ],
      "metadata": {
        "id": "uZzuLMlM35KP"
      },
      "execution_count": 10,
      "outputs": []
    },
    {
      "cell_type": "code",
      "source": [
        "ci"
      ],
      "metadata": {
        "colab": {
          "base_uri": "https://localhost:8080/"
        },
        "id": "DMwKHVuT4lgE",
        "outputId": "d0d02058-7885-43e7-c144-6341d9352c62"
      },
      "execution_count": 11,
      "outputs": [
        {
          "output_type": "execute_result",
          "data": {
            "text/plain": [
              "(-0.26070787348195684, -0.23351563003873793)"
            ]
          },
          "metadata": {},
          "execution_count": 11
        }
      ]
    },
    {
      "cell_type": "code",
      "source": [
        "# Chi-Square Distribution\n",
        "from scipy import stats\n",
        "import numpy as np\n",
        "data = np.r_[3.04, 2.94, 3.01, 3.00, 2.94, 2.91, 3.02,\n",
        "              3.04, 3.09, 2.95, 2.99, 3.10, 3.02]\n",
        "sigma = 0.05"
      ],
      "metadata": {
        "id": "IhOPj8og4m3m"
      },
      "execution_count": 12,
      "outputs": []
    },
    {
      "cell_type": "code",
      "source": [
        "chi2Dist = stats.chi2(len(data)-1)\n",
        "statistic = sum(((data - np.mean(data))/sigma)**2 )\n",
        "statistic"
      ],
      "metadata": {
        "colab": {
          "base_uri": "https://localhost:8080/"
        },
        "id": "TBd4yOnp7A8E",
        "outputId": "a50a0da5-c1f2-4f8f-f7af-9de0a34d7031"
      },
      "execution_count": 13,
      "outputs": [
        {
          "output_type": "execute_result",
          "data": {
            "text/plain": [
              "15.963076923076907"
            ]
          },
          "metadata": {},
          "execution_count": 13
        }
      ]
    },
    {
      "cell_type": "code",
      "source": [
        "chi2Dist.sf(statistic)"
      ],
      "metadata": {
        "colab": {
          "base_uri": "https://localhost:8080/"
        },
        "id": "0J0lQmRV7Ys8",
        "outputId": "ebfb6eef-bb7f-45f9-96af-ec49530482e0"
      },
      "execution_count": 14,
      "outputs": [
        {
          "output_type": "execute_result",
          "data": {
            "text/plain": [
              "0.19293306654285156"
            ]
          },
          "metadata": {},
          "execution_count": 14
        }
      ]
    },
    {
      "cell_type": "code",
      "source": [
        ""
      ],
      "metadata": {
        "id": "OKOf_AXl7efi"
      },
      "execution_count": null,
      "outputs": []
    }
  ]
}