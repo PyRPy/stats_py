{
  "nbformat": 4,
  "nbformat_minor": 0,
  "metadata": {
    "colab": {
      "name": "more_continuous_distribution.ipynb",
      "provenance": [],
      "collapsed_sections": []
    },
    "kernelspec": {
      "name": "python3",
      "display_name": "Python 3"
    },
    "language_info": {
      "name": "python"
    }
  },
  "cells": [
    {
      "cell_type": "code",
      "execution_count": null,
      "metadata": {
        "colab": {
          "base_uri": "https://localhost:8080/"
        },
        "id": "3RRr9czn297D",
        "outputId": "0d3329b5-d077-43bb-ee7a-ba93029978ff"
      },
      "outputs": [
        {
          "output_type": "execute_result",
          "data": {
            "text/plain": [
              "0.11816486815719918"
            ]
          },
          "metadata": {},
          "execution_count": 1
        }
      ],
      "source": [
        "# normal distribution\n",
        "from scipy import stats\n",
        "nd = stats.norm(3.5, 0.76)\n",
        "nd.cdf(2.6)"
      ]
    },
    {
      "cell_type": "code",
      "source": [
        "# t distribution\n",
        "import numpy as np\n",
        "n = 20\n",
        "df = n - 1\n",
        "alpha = 0.05"
      ],
      "metadata": {
        "id": "reSioMNq3QqL"
      },
      "execution_count": null,
      "outputs": []
    },
    {
      "cell_type": "code",
      "source": [
        "stats.t(df).isf(alpha/2)"
      ],
      "metadata": {
        "colab": {
          "base_uri": "https://localhost:8080/"
        },
        "id": "BTVybPe63kkP",
        "outputId": "bd2ff839-359f-4f4f-ce61-14d7ab5413d4"
      },
      "execution_count": null,
      "outputs": [
        {
          "output_type": "execute_result",
          "data": {
            "text/plain": [
              "2.0930240544082634"
            ]
          },
          "metadata": {},
          "execution_count": 6
        }
      ]
    },
    {
      "cell_type": "code",
      "source": [
        "stats.norm.isf(alpha/2)"
      ],
      "metadata": {
        "colab": {
          "base_uri": "https://localhost:8080/"
        },
        "id": "C1FCxqhe3npG",
        "outputId": "20fb2e86-cd8e-4aba-b1d0-47233a97ed8d"
      },
      "execution_count": null,
      "outputs": [
        {
          "output_type": "execute_result",
          "data": {
            "text/plain": [
              "1.9599639845400545"
            ]
          },
          "metadata": {},
          "execution_count": 7
        }
      ]
    },
    {
      "cell_type": "code",
      "source": [
        "# generate some data\n",
        "data = np.random.randn(25)\n",
        "data\n",
        "np.mean(data)"
      ],
      "metadata": {
        "colab": {
          "base_uri": "https://localhost:8080/"
        },
        "id": "jRrHAMUO4VXW",
        "outputId": "3a2bd3e6-7ea2-44c4-b80d-1394de15029a"
      },
      "execution_count": null,
      "outputs": [
        {
          "output_type": "execute_result",
          "data": {
            "text/plain": [
              "-0.24711175175785244"
            ]
          },
          "metadata": {},
          "execution_count": 9
        }
      ]
    },
    {
      "cell_type": "code",
      "source": [
        "# get a 95% CI or confidence interval\n",
        "alpha = 0.05\n",
        "df = len(data) - 1\n",
        "ci = stats.t.interval(alpha, df, loc=np.mean(data), scale=stats.sem(data))"
      ],
      "metadata": {
        "id": "uZzuLMlM35KP"
      },
      "execution_count": null,
      "outputs": []
    },
    {
      "cell_type": "code",
      "source": [
        "ci"
      ],
      "metadata": {
        "colab": {
          "base_uri": "https://localhost:8080/"
        },
        "id": "DMwKHVuT4lgE",
        "outputId": "d0d02058-7885-43e7-c144-6341d9352c62"
      },
      "execution_count": null,
      "outputs": [
        {
          "output_type": "execute_result",
          "data": {
            "text/plain": [
              "(-0.26070787348195684, -0.23351563003873793)"
            ]
          },
          "metadata": {},
          "execution_count": 11
        }
      ]
    },
    {
      "cell_type": "code",
      "source": [
        "# Chi-Square Distribution\n",
        "from scipy import stats\n",
        "import numpy as np\n",
        "data = np.r_[3.04, 2.94, 3.01, 3.00, 2.94, 2.91, 3.02,\n",
        "              3.04, 3.09, 2.95, 2.99, 3.10, 3.02]\n",
        "sigma = 0.05"
      ],
      "metadata": {
        "id": "IhOPj8og4m3m"
      },
      "execution_count": 1,
      "outputs": []
    },
    {
      "cell_type": "code",
      "source": [
        "chi2Dist = stats.chi2(len(data)-1)\n",
        "statistic = sum(((data - np.mean(data))/sigma)**2 )\n",
        "statistic"
      ],
      "metadata": {
        "colab": {
          "base_uri": "https://localhost:8080/"
        },
        "id": "TBd4yOnp7A8E",
        "outputId": "c905f2bd-7902-41ca-e70b-149837a9064e"
      },
      "execution_count": 2,
      "outputs": [
        {
          "output_type": "execute_result",
          "data": {
            "text/plain": [
              "15.963076923076907"
            ]
          },
          "metadata": {},
          "execution_count": 2
        }
      ]
    },
    {
      "cell_type": "code",
      "source": [
        "chi2Dist.sf(statistic)"
      ],
      "metadata": {
        "id": "0J0lQmRV7Ys8",
        "outputId": "a5aa3eea-e7c4-4d1c-eb8b-bdc86f0b6329",
        "colab": {
          "base_uri": "https://localhost:8080/"
        }
      },
      "execution_count": 3,
      "outputs": [
        {
          "output_type": "execute_result",
          "data": {
            "text/plain": [
              "0.19293306654285156"
            ]
          },
          "metadata": {},
          "execution_count": 3
        }
      ]
    },
    {
      "cell_type": "code",
      "source": [
        "# F distribution\n",
        "import numpy as np \n",
        "from scipy import stats "
      ],
      "metadata": {
        "id": "OKOf_AXl7efi"
      },
      "execution_count": 4,
      "outputs": []
    },
    {
      "cell_type": "code",
      "source": [
        "# psuedo data\n",
        "method1 = np.array([20.7, 20.3, 20.3, 20.3, 20.7, 19.9,\n",
        "                    19.9, 19.9, 20.3, 20.3, 19.7, 20.3])\n",
        "method2 = np.array([ 19.7, 19.4, 20.1, 18.6, 18.8, 20.2,\n",
        "                      18.7, 19. ])"
      ],
      "metadata": {
        "id": "hAiUVWl2q8A5"
      },
      "execution_count": 5,
      "outputs": []
    },
    {
      "cell_type": "code",
      "source": [
        "# find stats and p-value\n",
        "fval = np.var(method1, ddof=1)/np.var(method2, ddof=1)\n",
        "fd = stats.f(len(method1)-1, len(method2)-1)\n",
        "pvalue = fd.cdf(fval)\n",
        "pvalue"
      ],
      "metadata": {
        "colab": {
          "base_uri": "https://localhost:8080/"
        },
        "id": "keVyFpQtrLba",
        "outputId": "d8506417-7999-4b18-d9bc-2aedf8fcc203"
      },
      "execution_count": 8,
      "outputs": [
        {
          "output_type": "execute_result",
          "data": {
            "text/plain": [
              "0.018665169931411433"
            ]
          },
          "metadata": {},
          "execution_count": 8
        }
      ]
    },
    {
      "cell_type": "code",
      "source": [
        "if pvalue < 0.05 or pvalue > 0.975:\n",
        "  print(\"Difference is significant.\")\n",
        "else:\n",
        "  print(\"Difference is not significant\")"
      ],
      "metadata": {
        "colab": {
          "base_uri": "https://localhost:8080/"
        },
        "id": "IEfdMvIssAMy",
        "outputId": "abe4bfa6-fb99-4964-ef40-5d7f65da304c"
      },
      "execution_count": 9,
      "outputs": [
        {
          "output_type": "stream",
          "name": "stdout",
          "text": [
            "Difference is significant.\n"
          ]
        }
      ]
    },
    {
      "cell_type": "code",
      "source": [
        "# weibull distribution\n",
        "# https://numpy.org/doc/stable/reference/random/generated/numpy.random.weibull.html"
      ],
      "metadata": {
        "id": "BjGMlH9Ks5vn"
      },
      "execution_count": 10,
      "outputs": []
    },
    {
      "cell_type": "code",
      "source": [
        "# samples from weibull distribution\n",
        "a = 5.0 # shape\n",
        "s = np.random.weibull(a, 1000)"
      ],
      "metadata": {
        "id": "ZzeiLmxwzvwN"
      },
      "execution_count": 11,
      "outputs": []
    },
    {
      "cell_type": "code",
      "source": [
        "# histograms\n",
        "import matplotlib.pyplot as plt \n",
        "x = np.arange(1, 100.0) / 50.0\n",
        "def weib(x, n, a):\n",
        "  return (a/n) * (x/n)**(a-1) * np.exp((-x/n)**a)"
      ],
      "metadata": {
        "id": "HXXoertp0GOG"
      },
      "execution_count": 15,
      "outputs": []
    },
    {
      "cell_type": "code",
      "source": [
        "count, bins, ignored = plt.hist(np.random.weibull(5.0, 1000))\n",
        "x = np.arange(1, 100.0) / 50.0\n",
        "scale = count.max()/weib(x, 1.0, 5.0).max()\n",
        "plt.plot(x, weib(x, 1.0, 5.0)*scale)\n",
        "plt.show()"
      ],
      "metadata": {
        "colab": {
          "base_uri": "https://localhost:8080/",
          "height": 267
        },
        "id": "bd88PCBN0vVi",
        "outputId": "780187e1-1068-4535-d36c-46b34894d0d9"
      },
      "execution_count": 16,
      "outputs": [
        {
          "output_type": "display_data",
          "data": {
            "image/png": "[encoded data removed]",
            "text/plain": [
              "<Figure size 432x288 with 1 Axes>"
            ]
          },
          "metadata": {
            "needs_background": "light"
          }
        }
      ]
    }
  ]
}