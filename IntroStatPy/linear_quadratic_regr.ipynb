{
  "nbformat": 4,
  "nbformat_minor": 0,
  "metadata": {
    "colab": {
      "name": "linear_quadratic_regr.ipynb",
      "provenance": []
    },
    "kernelspec": {
      "name": "python3",
      "display_name": "Python 3"
    },
    "language_info": {
      "name": "python"
    }
  },
  "cells": [
    {
      "cell_type": "code",
      "execution_count": 1,
      "metadata": {
        "id": "2yXxkUxn9_WG"
      },
      "outputs": [],
      "source": [
        "# linear and quadratic regression"
      ]
    },
    {
      "cell_type": "code",
      "source": [
        "import numpy as np \n",
        "import matplotlib.pyplot as plt\n",
        "np.set_printoptions(precision = 3)"
      ],
      "metadata": {
        "id": "nAmNLKOp-F4A"
      },
      "execution_count": 5,
      "outputs": []
    },
    {
      "cell_type": "code",
      "source": [
        "# simulate data\n",
        "x = np.arange(100)\n",
        "x[:10]"
      ],
      "metadata": {
        "colab": {
          "base_uri": "https://localhost:8080/"
        },
        "id": "xnJIsCnk-OQ3",
        "outputId": "61e70232-d6bd-474e-ca37-1fd63211bde6"
      },
      "execution_count": 8,
      "outputs": [
        {
          "output_type": "execute_result",
          "data": {
            "text/plain": [
              "array([0, 1, 2, 3, 4, 5, 6, 7, 8, 9])"
            ]
          },
          "metadata": {},
          "execution_count": 8
        }
      ]
    },
    {
      "cell_type": "code",
      "source": [
        "y = 150 + 3 * x + 0.03 * x**2 + 5 * np.random.randn(len(x))\n",
        "y[:10]"
      ],
      "metadata": {
        "colab": {
          "base_uri": "https://localhost:8080/"
        },
        "id": "SWdeqe3t-W3n",
        "outputId": "726d11ca-dd42-45d8-8baa-22365378de93"
      },
      "execution_count": 7,
      "outputs": [
        {
          "output_type": "execute_result",
          "data": {
            "text/plain": [
              "array([152.42 , 153.398, 160.912, 167.2  , 169.879, 168.221, 164.485,\n",
              "       169.443, 177.685, 185.063])"
            ]
          },
          "metadata": {},
          "execution_count": 7
        }
      ]
    },
    {
      "cell_type": "code",
      "source": [
        "# design matrix\n",
        "M1 = np.vstack((np.ones_like(x), x)).T \n",
        "M1[:10]"
      ],
      "metadata": {
        "colab": {
          "base_uri": "https://localhost:8080/"
        },
        "id": "9oEgL6kp-kIH",
        "outputId": "cae99d33-4a07-48e1-e902-101daa5914d2"
      },
      "execution_count": 10,
      "outputs": [
        {
          "output_type": "execute_result",
          "data": {
            "text/plain": [
              "array([[1, 0],\n",
              "       [1, 1],\n",
              "       [1, 2],\n",
              "       [1, 3],\n",
              "       [1, 4],\n",
              "       [1, 5],\n",
              "       [1, 6],\n",
              "       [1, 7],\n",
              "       [1, 8],\n",
              "       [1, 9]])"
            ]
          },
          "metadata": {},
          "execution_count": 10
        }
      ]
    },
    {
      "cell_type": "code",
      "source": [
        "M2 = np.vstack((np.ones_like(x), x, x**2)).T \n",
        "M2[:10]"
      ],
      "metadata": {
        "colab": {
          "base_uri": "https://localhost:8080/"
        },
        "id": "E1jup9qm_LSE",
        "outputId": "dd37ffb3-d4ec-4890-9afd-869ad0c2b6bb"
      },
      "execution_count": 11,
      "outputs": [
        {
          "output_type": "execute_result",
          "data": {
            "text/plain": [
              "array([[ 1,  0,  0],\n",
              "       [ 1,  1,  1],\n",
              "       [ 1,  2,  4],\n",
              "       [ 1,  3,  9],\n",
              "       [ 1,  4, 16],\n",
              "       [ 1,  5, 25],\n",
              "       [ 1,  6, 36],\n",
              "       [ 1,  7, 49],\n",
              "       [ 1,  8, 64],\n",
              "       [ 1,  9, 81]])"
            ]
          },
          "metadata": {},
          "execution_count": 11
        }
      ]
    },
    {
      "cell_type": "code",
      "source": [
        "M3 = np.vstack((np.ones_like(x), x, x**2, x**3)).T \n",
        "M3[:10]"
      ],
      "metadata": {
        "colab": {
          "base_uri": "https://localhost:8080/"
        },
        "id": "sZTJjqnDAlWF",
        "outputId": "d73ae254-7dde-4edf-8e4e-d60c1c888bfe"
      },
      "execution_count": 12,
      "outputs": [
        {
          "output_type": "execute_result",
          "data": {
            "text/plain": [
              "array([[  1,   0,   0,   0],\n",
              "       [  1,   1,   1,   1],\n",
              "       [  1,   2,   4,   8],\n",
              "       [  1,   3,   9,  27],\n",
              "       [  1,   4,  16,  64],\n",
              "       [  1,   5,  25, 125],\n",
              "       [  1,   6,  36, 216],\n",
              "       [  1,   7,  49, 343],\n",
              "       [  1,   8,  64, 512],\n",
              "       [  1,   9,  81, 729]])"
            ]
          },
          "metadata": {},
          "execution_count": 12
        }
      ]
    },
    {
      "cell_type": "code",
      "source": [
        "# solve the equations in np \n",
        "p1 = np.linalg.lstsq(M1, y)"
      ],
      "metadata": {
        "colab": {
          "base_uri": "https://localhost:8080/"
        },
        "id": "KQ5iwyOKAusD",
        "outputId": "2c0f4fa5-9217-48bf-8d6e-e95cb2a967fe"
      },
      "execution_count": 13,
      "outputs": [
        {
          "output_type": "stream",
          "name": "stderr",
          "text": [
            "/usr/local/lib/python3.7/dist-packages/ipykernel_launcher.py:2: FutureWarning: `rcond` parameter will change to the default of machine precision times ``max(M, N)`` where M and N are the input matrix dimensions.\n",
            "To use the future default and silence this warning we advise to pass `rcond=None`, to keep using the old, explicitly pass `rcond=-1`.\n",
            "  \n"
          ]
        }
      ]
    },
    {
      "cell_type": "code",
      "source": [
        "print('the coefficients from the linear fit: {0}'.format(p1[0]))"
      ],
      "metadata": {
        "colab": {
          "base_uri": "https://localhost:8080/"
        },
        "id": "oXU7qKDUBFrV",
        "outputId": "6cdbeb84-ad6b-46c2-c45e-203f8594aa1b"
      },
      "execution_count": 14,
      "outputs": [
        {
          "output_type": "stream",
          "name": "stdout",
          "text": [
            "the coefficients from the linear fit: [103.307   5.944]\n"
          ]
        }
      ]
    },
    {
      "cell_type": "code",
      "source": [
        "p2 = np.linalg.lstsq(M2, y)"
      ],
      "metadata": {
        "colab": {
          "base_uri": "https://localhost:8080/"
        },
        "id": "GMc-0Q57BVTK",
        "outputId": "8623f550-e3f4-483a-d23a-9e9d09cd5aa8"
      },
      "execution_count": 15,
      "outputs": [
        {
          "output_type": "stream",
          "name": "stderr",
          "text": [
            "/usr/local/lib/python3.7/dist-packages/ipykernel_launcher.py:1: FutureWarning: `rcond` parameter will change to the default of machine precision times ``max(M, N)`` where M and N are the input matrix dimensions.\n",
            "To use the future default and silence this warning we advise to pass `rcond=None`, to keep using the old, explicitly pass `rcond=-1`.\n",
            "  \"\"\"Entry point for launching an IPython kernel.\n"
          ]
        }
      ]
    },
    {
      "cell_type": "code",
      "source": [
        "print('the coefficients from the quadratic fit: {0}'.format(p2[0]))"
      ],
      "metadata": {
        "colab": {
          "base_uri": "https://localhost:8080/"
        },
        "id": "jlWf0vQDBhDB",
        "outputId": "17924225-c52c-4803-c994-ddb57cba1b59"
      },
      "execution_count": 19,
      "outputs": [
        {
          "output_type": "stream",
          "name": "stdout",
          "text": [
            "the coefficients from the quadratic fit: [1.535e+02 2.869e+00 3.106e-02]\n"
          ]
        }
      ]
    },
    {
      "cell_type": "code",
      "source": [
        "p3 = np.linalg.lstsq(M3, y)"
      ],
      "metadata": {
        "colab": {
          "base_uri": "https://localhost:8080/"
        },
        "id": "TLatb5uiBi01",
        "outputId": "58deed99-344e-4071-fc40-5560c27c5cd9"
      },
      "execution_count": 17,
      "outputs": [
        {
          "output_type": "stream",
          "name": "stderr",
          "text": [
            "/usr/local/lib/python3.7/dist-packages/ipykernel_launcher.py:1: FutureWarning: `rcond` parameter will change to the default of machine precision times ``max(M, N)`` where M and N are the input matrix dimensions.\n",
            "To use the future default and silence this warning we advise to pass `rcond=None`, to keep using the old, explicitly pass `rcond=-1`.\n",
            "  \"\"\"Entry point for launching an IPython kernel.\n"
          ]
        }
      ]
    },
    {
      "cell_type": "code",
      "source": [
        "print('the coefficients from the cubic fit: {0}'.format(p3[0]))"
      ],
      "metadata": {
        "colab": {
          "base_uri": "https://localhost:8080/"
        },
        "id": "5AMhbP7LBo-G",
        "outputId": "d5317bfe-2a2a-4ee7-baaf-49e9741c48fc"
      },
      "execution_count": 20,
      "outputs": [
        {
          "output_type": "stream",
          "name": "stdout",
          "text": [
            "the coefficients from the cubic fit: [ 1.542e+02  2.784e+00  3.323e-02 -1.461e-05]\n"
          ]
        }
      ]
    },
    {
      "cell_type": "code",
      "source": [
        "# comparison in 'statsmodels'"
      ],
      "metadata": {
        "id": "50hyz9ocBspz"
      },
      "execution_count": 21,
      "outputs": []
    },
    {
      "cell_type": "code",
      "source": [
        "import statsmodels.api as sm "
      ],
      "metadata": {
        "colab": {
          "base_uri": "https://localhost:8080/"
        },
        "id": "unDsQmhoB_aZ",
        "outputId": "b144963c-3444-4434-afc0-681f6b4fec59"
      },
      "execution_count": 22,
      "outputs": [
        {
          "output_type": "stream",
          "name": "stderr",
          "text": [
            "/usr/local/lib/python3.7/dist-packages/statsmodels/tools/_testing.py:19: FutureWarning: pandas.util.testing is deprecated. Use the functions in the public API at pandas.testing instead.\n",
            "  import pandas.util.testing as tm\n"
          ]
        }
      ]
    },
    {
      "cell_type": "code",
      "source": [
        "res1 = sm.OLS(y, M1).fit()\n",
        "print(res1.summary2())"
      ],
      "metadata": {
        "colab": {
          "base_uri": "https://localhost:8080/"
        },
        "id": "Y4_TXlzWCFGG",
        "outputId": "9cdf421b-85b0-472f-93e4-a720d6ec936d"
      },
      "execution_count": 23,
      "outputs": [
        {
          "output_type": "stream",
          "name": "stdout",
          "text": [
            "                 Results: Ordinary least squares\n",
            "=================================================================\n",
            "Model:              OLS              Adj. R-squared:     0.981   \n",
            "Dependent Variable: y                AIC:                920.2434\n",
            "Date:               2022-01-27 14:55 BIC:                925.4538\n",
            "No. Observations:   100              Log-Likelihood:     -458.12 \n",
            "Df Model:           1                F-statistic:        5170.   \n",
            "Df Residuals:       98               Prob (F-statistic): 1.31e-86\n",
            "R-squared:          0.981            Scale:              569.50  \n",
            "-------------------------------------------------------------------\n",
            "         Coef.     Std.Err.      t      P>|t|     [0.025    0.975] \n",
            "-------------------------------------------------------------------\n",
            "const   103.3070     4.7373   21.8073   0.0000   93.9061   112.7080\n",
            "x1        5.9445     0.0827   71.9040   0.0000    5.7804     6.1085\n",
            "-----------------------------------------------------------------\n",
            "Omnibus:               18.001       Durbin-Watson:          0.087\n",
            "Prob(Omnibus):         0.000        Jarque-Bera (JB):       8.673\n",
            "Skew:                  0.525        Prob(JB):               0.013\n",
            "Kurtosis:              2.011        Condition No.:          114  \n",
            "=================================================================\n",
            "\n"
          ]
        }
      ]
    },
    {
      "cell_type": "code",
      "source": [
        "res2 = sm.OLS(y, M2).fit()\n",
        "res3 = sm.OLS(y, M3).fit()"
      ],
      "metadata": {
        "id": "I0UNlA1_DIsq"
      },
      "execution_count": 24,
      "outputs": []
    },
    {
      "cell_type": "code",
      "source": [
        "print('the AIC is {0:4.1f} for the linear fit, \\n {1:4.1f} for the quadratic fit, and \\n {2:4.1f} for the cubic fit'.format(res1.aic, res2.aic, res3.aic))"
      ],
      "metadata": {
        "colab": {
          "base_uri": "https://localhost:8080/"
        },
        "id": "-R7xso2bCPp7",
        "outputId": "558befef-4fad-46d0-d217-37841b521d15"
      },
      "execution_count": 29,
      "outputs": [
        {
          "output_type": "stream",
          "name": "stdout",
          "text": [
            "the AIC is 920.2 for the linear fit, \n",
            " 600.2 for the quadratic fit, and \n",
            " 601.9 for the cubic fit\n"
          ]
        }
      ]
    },
    {
      "cell_type": "code",
      "source": [
        "# the best model has the 'lowest' AIC ?"
      ],
      "metadata": {
        "id": "vvsIC9qVDO7s"
      },
      "execution_count": null,
      "outputs": []
    }
  ]
}