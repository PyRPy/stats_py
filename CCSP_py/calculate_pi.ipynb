{
  "nbformat": 4,
  "nbformat_minor": 0,
  "metadata": {
    "colab": {
      "name": "calculate_pi.ipynb",
      "provenance": []
    },
    "kernelspec": {
      "name": "python3",
      "display_name": "Python 3"
    },
    "language_info": {
      "name": "python"
    }
  },
  "cells": [
    {
      "cell_type": "code",
      "execution_count": 8,
      "metadata": {
        "id": "1Mm1NCDvBs7c"
      },
      "outputs": [],
      "source": [
        "# code from book: Classic Computer Science Problems in Python\n",
        "# calculate pi with \"Leibniz formula\"\n",
        "def calculate_pi(n):\n",
        "  numerator = 4.0\n",
        "  denominator = 1.0\n",
        "  operator = 1.0\n",
        "  pi = 0.0\n",
        "  for _ in range(n):\n",
        "    pi += operator * (numerator / denominator) \n",
        "    denominator += 2.0\n",
        "    operator *= -1.0 \n",
        "  return pi"
      ]
    },
    {
      "cell_type": "code",
      "source": [
        "print(calculate_pi(1))"
      ],
      "metadata": {
        "colab": {
          "base_uri": "https://localhost:8080/"
        },
        "id": "EAUr0q8YCOP3",
        "outputId": "c51c0e65-07b1-45d1-dd1b-39be3aeb0b12"
      },
      "execution_count": 9,
      "outputs": [
        {
          "output_type": "stream",
          "name": "stdout",
          "text": [
            "4.0\n"
          ]
        }
      ]
    },
    {
      "cell_type": "code",
      "source": [
        "print(calculate_pi(10))"
      ],
      "metadata": {
        "colab": {
          "base_uri": "https://localhost:8080/"
        },
        "id": "LGGId-t2CTvU",
        "outputId": "5e7947f1-1b04-4ac3-869a-3250aa3fb2ac"
      },
      "execution_count": 5,
      "outputs": [
        {
          "output_type": "stream",
          "name": "stdout",
          "text": [
            "3.0418396189294032\n"
          ]
        }
      ]
    },
    {
      "cell_type": "code",
      "source": [
        "print(calculate_pi(100))"
      ],
      "metadata": {
        "colab": {
          "base_uri": "https://localhost:8080/"
        },
        "id": "OveJNHGQCdSh",
        "outputId": "87f91cac-a643-4d4a-eed0-a69dd30591a8"
      },
      "execution_count": 6,
      "outputs": [
        {
          "output_type": "stream",
          "name": "stdout",
          "text": [
            "3.1315929035585537\n"
          ]
        }
      ]
    },
    {
      "cell_type": "code",
      "source": [
        "print(calculate_pi(1000))"
      ],
      "metadata": {
        "colab": {
          "base_uri": "https://localhost:8080/"
        },
        "id": "cebyErIdCez2",
        "outputId": "d602b404-c9ac-4784-acd7-d7e649e78089"
      },
      "execution_count": 7,
      "outputs": [
        {
          "output_type": "stream",
          "name": "stdout",
          "text": [
            "3.140592653839794\n"
          ]
        }
      ]
    }
  ]
}