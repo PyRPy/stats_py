{
  "nbformat": 4,
  "nbformat_minor": 0,
  "metadata": {
    "colab": {
      "name": "CCSP_01.ipynb",
      "provenance": []
    },
    "kernelspec": {
      "name": "python3",
      "display_name": "Python 3"
    },
    "language_info": {
      "name": "python"
    }
  },
  "cells": [
    {
      "cell_type": "code",
      "execution_count": null,
      "metadata": {
        "id": "FVC1X-XuPPPI"
      },
      "outputs": [],
      "source": [
        "# Classic Computer Science Problems in Python"
      ]
    },
    {
      "cell_type": "code",
      "source": [
        "# fibonacci with recursion\n",
        "def fib(n):\n",
        "  if n < 2:\n",
        "    return n\n",
        "  return fib(n-2) + fib(n-1)"
      ],
      "metadata": {
        "id": "cNLOv8qhPjS6"
      },
      "execution_count": null,
      "outputs": []
    },
    {
      "cell_type": "code",
      "source": [
        "# test\n",
        "fib(5)"
      ],
      "metadata": {
        "colab": {
          "base_uri": "https://localhost:8080/"
        },
        "id": "BZ2d3B2mQAGi",
        "outputId": "8675e457-2c82-497d-bd70-4f9ac4989aff"
      },
      "execution_count": null,
      "outputs": [
        {
          "output_type": "execute_result",
          "data": {
            "text/plain": [
              "5"
            ]
          },
          "metadata": {},
          "execution_count": 3
        }
      ]
    },
    {
      "cell_type": "code",
      "source": [
        "fib(10)"
      ],
      "metadata": {
        "colab": {
          "base_uri": "https://localhost:8080/"
        },
        "id": "Id_ft3eIQC7f",
        "outputId": "3a8c1ac6-3dfc-46c0-bf71-62230f979d7b"
      },
      "execution_count": null,
      "outputs": [
        {
          "output_type": "execute_result",
          "data": {
            "text/plain": [
              "55"
            ]
          },
          "metadata": {},
          "execution_count": 4
        }
      ]
    },
    {
      "cell_type": "code",
      "source": [
        "# use memoization\n",
        "# from typing import Dict"
      ],
      "metadata": {
        "id": "hSnMIPyzQEen"
      },
      "execution_count": 9,
      "outputs": []
    },
    {
      "cell_type": "code",
      "source": [
        "memo = dict()\n",
        "memo = {0:0, 1:1}"
      ],
      "metadata": {
        "id": "FuVhR70IxCiK"
      },
      "execution_count": 10,
      "outputs": []
    },
    {
      "cell_type": "code",
      "source": [
        "def fib3(n):\n",
        "  if n not in memo:\n",
        "    memo[n] = fib3(n-1) + fib3(n-2)\n",
        "  return memo[n]"
      ],
      "metadata": {
        "id": "yEsQJ11nxMc2"
      },
      "execution_count": 11,
      "outputs": []
    },
    {
      "cell_type": "code",
      "source": [
        "fib3(10)"
      ],
      "metadata": {
        "colab": {
          "base_uri": "https://localhost:8080/"
        },
        "id": "AL8HIRFJxngH",
        "outputId": "66cb45be-e595-4398-82ce-8d1d7047e523"
      },
      "execution_count": 12,
      "outputs": [
        {
          "output_type": "execute_result",
          "data": {
            "text/plain": [
              "55"
            ]
          },
          "metadata": {},
          "execution_count": 12
        }
      ]
    },
    {
      "cell_type": "code",
      "source": [
        "fib3(50)"
      ],
      "metadata": {
        "colab": {
          "base_uri": "https://localhost:8080/"
        },
        "id": "lJw-inZqxpeH",
        "outputId": "4823dfec-79f0-4ba4-9dc1-11bff604728c"
      },
      "execution_count": 13,
      "outputs": [
        {
          "output_type": "execute_result",
          "data": {
            "text/plain": [
              "12586269025"
            ]
          },
          "metadata": {},
          "execution_count": 13
        }
      ]
    },
    {
      "cell_type": "code",
      "source": [
        "# auto memoization\n",
        "from functools import lru_cache\n",
        "@lru_cache(maxsize=None)\n",
        "def fib4(n):\n",
        "  if n < 2:\n",
        "    return n \n",
        "  return fib4(n-2) + fib4(n-1)"
      ],
      "metadata": {
        "id": "MKa1QOAOxylu"
      },
      "execution_count": 14,
      "outputs": []
    },
    {
      "cell_type": "code",
      "source": [
        "fib4(50)"
      ],
      "metadata": {
        "colab": {
          "base_uri": "https://localhost:8080/"
        },
        "id": "HVKuQ1rfzOp5",
        "outputId": "b360a50d-7661-423d-e490-02ee5ac81577"
      },
      "execution_count": 15,
      "outputs": [
        {
          "output_type": "execute_result",
          "data": {
            "text/plain": [
              "12586269025"
            ]
          },
          "metadata": {},
          "execution_count": 15
        }
      ]
    },
    {
      "cell_type": "code",
      "source": [
        "# old fashion way\n",
        "def fib5(n):\n",
        "  if n == 0:\n",
        "    return n \n",
        "  last = 0 \n",
        "  next = 1\n",
        "  for _ in range(1, n):\n",
        "    last, next = next, last + next \n",
        "  return next "
      ],
      "metadata": {
        "id": "DHl8R7OZzQtq"
      },
      "execution_count": 16,
      "outputs": []
    },
    {
      "cell_type": "code",
      "source": [
        "fib5(50)"
      ],
      "metadata": {
        "colab": {
          "base_uri": "https://localhost:8080/"
        },
        "id": "tEcEM6mMzmlz",
        "outputId": "b684fbfb-8b24-4819-862f-35255a0ba559"
      },
      "execution_count": 17,
      "outputs": [
        {
          "output_type": "execute_result",
          "data": {
            "text/plain": [
              "12586269025"
            ]
          },
          "metadata": {},
          "execution_count": 17
        }
      ]
    },
    {
      "cell_type": "code",
      "source": [
        "# generator \n",
        "def fib6(n):\n",
        "  yield 0 \n",
        "  if n > 0:\n",
        "    yield 1 \n",
        "    last = 0 \n",
        "    next = 1 \n",
        "  for _ in range(1, n):\n",
        "    last, next = next, last + next \n",
        "    yield next "
      ],
      "metadata": {
        "id": "7-qNBfY3zojT"
      },
      "execution_count": 18,
      "outputs": []
    },
    {
      "cell_type": "code",
      "source": [
        "fib5(50)"
      ],
      "metadata": {
        "colab": {
          "base_uri": "https://localhost:8080/"
        },
        "id": "ljy1acAB0CSX",
        "outputId": "a516a541-c9b0-4f3f-9662-2eb665b7a8ec"
      },
      "execution_count": 19,
      "outputs": [
        {
          "output_type": "execute_result",
          "data": {
            "text/plain": [
              "12586269025"
            ]
          },
          "metadata": {},
          "execution_count": 19
        }
      ]
    },
    {
      "cell_type": "code",
      "source": [
        ""
      ],
      "metadata": {
        "id": "BQm68SAr0GY8"
      },
      "execution_count": null,
      "outputs": []
    }
  ]
}