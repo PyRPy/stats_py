{
  "nbformat": 4,
  "nbformat_minor": 0,
  "metadata": {
    "colab": {
      "name": "CCSP_01.ipynb",
      "provenance": []
    },
    "kernelspec": {
      "name": "python3",
      "display_name": "Python 3"
    },
    "language_info": {
      "name": "python"
    }
  },
  "cells": [
    {
      "cell_type": "code",
      "execution_count": 1,
      "metadata": {
        "id": "FVC1X-XuPPPI"
      },
      "outputs": [],
      "source": [
        "# Classic Computer Science Problems in Python"
      ]
    },
    {
      "cell_type": "code",
      "source": [
        "# fibonacci with recursion\n",
        "def fib(n):\n",
        "  if n < 2:\n",
        "    return n\n",
        "  return fib(n-2) + fib(n-1)"
      ],
      "metadata": {
        "id": "cNLOv8qhPjS6"
      },
      "execution_count": 2,
      "outputs": []
    },
    {
      "cell_type": "code",
      "source": [
        "# test\n",
        "fib(5)"
      ],
      "metadata": {
        "colab": {
          "base_uri": "https://localhost:8080/"
        },
        "id": "BZ2d3B2mQAGi",
        "outputId": "8675e457-2c82-497d-bd70-4f9ac4989aff"
      },
      "execution_count": 3,
      "outputs": [
        {
          "output_type": "execute_result",
          "data": {
            "text/plain": [
              "5"
            ]
          },
          "metadata": {},
          "execution_count": 3
        }
      ]
    },
    {
      "cell_type": "code",
      "source": [
        "fib(10)"
      ],
      "metadata": {
        "colab": {
          "base_uri": "https://localhost:8080/"
        },
        "id": "Id_ft3eIQC7f",
        "outputId": "3a8c1ac6-3dfc-46c0-bf71-62230f979d7b"
      },
      "execution_count": 4,
      "outputs": [
        {
          "output_type": "execute_result",
          "data": {
            "text/plain": [
              "55"
            ]
          },
          "metadata": {},
          "execution_count": 4
        }
      ]
    },
    {
      "cell_type": "code",
      "source": [
        ""
      ],
      "metadata": {
        "id": "hSnMIPyzQEen"
      },
      "execution_count": null,
      "outputs": []
    }
  ]
}