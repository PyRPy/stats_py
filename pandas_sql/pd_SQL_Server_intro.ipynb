{
 "cells": [
  {
   "cell_type": "code",
   "execution_count": null,
   "metadata": {},
   "outputs": [],
   "source": [
    "# to use SQL Server in python "
   ]
  },
  {
   "cell_type": "code",
   "execution_count": null,
   "metadata": {},
   "outputs": [],
   "source": [
    "import pyodbc"
   ]
  },
  {
   "cell_type": "code",
   "execution_count": null,
   "metadata": {},
   "outputs": [],
   "source": [
    "# Define connection parameters\n",
    "driver = 'SQL SERVER'\n",
    "server = 'HP2024\\\\SQLEXPRESS'   # Example: 'localhost' or '192.168.1.100'\n",
    "database = 'Invest2024'     # Example: 'mydatabase'\n",
    "\n",
    "# Create a connection string\n",
    "# don't need username and password to use SQL Server\n",
    "# It needs three {{{ - amazingly confusing ! - }}}\n",
    "connection_string = f'''\n",
    "                DRIVER={{{'SQL SERVER'}}};\n",
    "                SERVER={server};\n",
    "                DATABASE={database};\n",
    "                Trust_Connection=yes;\n",
    "                '''\n",
    "\n"
   ]
  },
  {
   "cell_type": "code",
   "execution_count": null,
   "metadata": {},
   "outputs": [],
   "source": [
    "# Connect to SQL Server\n",
    "try:\n",
    "    connection = pyodbc.connect(connection_string)\n",
    "    print(\"Connected to SQL Server successfully!\")\n",
    "    \n",
    "    # Create a cursor\n",
    "    cursor = connection.cursor()\n",
    "    \n",
    "    # Execute a query\n",
    "    cursor.execute(\"SELECT TOP 5 * FROM strategy_table\")  # Replace 'your_table' with a real table name\n",
    "    \n",
    "    # Fetch results\n",
    "    rows = cursor.fetchall()\n",
    "    for row in rows:\n",
    "        print(row)\n",
    "\n",
    "    # Close the connection\n",
    "    connection.close()\n",
    "\n",
    "except pyodbc.Error as e:\n",
    "    print(\"Error connecting to SQL Server:\", e)\n"
   ]
  }
 ],
 "metadata": {
  "kernelspec": {
   "display_name": "myenv",
   "language": "python",
   "name": "python3"
  },
  "language_info": {
   "codemirror_mode": {
    "name": "ipython",
    "version": 3
   },
   "file_extension": ".py",
   "mimetype": "text/x-python",
   "name": "python",
   "nbconvert_exporter": "python",
   "pygments_lexer": "ipython3",
   "version": "3.13.1"
  }
 },
 "nbformat": 4,
 "nbformat_minor": 2
}
