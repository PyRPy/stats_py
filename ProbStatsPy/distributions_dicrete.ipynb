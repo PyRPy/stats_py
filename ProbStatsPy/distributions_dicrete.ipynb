{
  "nbformat": 4,
  "nbformat_minor": 0,
  "metadata": {
    "colab": {
      "name": "distributions_dicrete.ipynb",
      "provenance": [],
      "collapsed_sections": []
    },
    "kernelspec": {
      "name": "python3",
      "display_name": "Python 3"
    },
    "language_info": {
      "name": "python"
    }
  },
  "cells": [
    {
      "cell_type": "code",
      "execution_count": 3,
      "metadata": {
        "id": "XhJhJIITyTQI"
      },
      "outputs": [],
      "source": [
        "# reference : An introduction to statistics with Python, Thomas Haslwanter \n",
        "from scipy import stats\n",
        "p = 0.5\n",
        "bern = stats.bernoulli(p)\n",
        "p_tails = bern.pmf(0)\n",
        "p_heads = bern.pmf(1)"
      ]
    },
    {
      "cell_type": "code",
      "source": [
        "trials = bern.rvs(10)\n",
        "trials"
      ],
      "metadata": {
        "colab": {
          "base_uri": "https://localhost:8080/"
        },
        "id": "6SZM5pHqzVMO",
        "outputId": "0aaed0a6-a90b-4cef-92cb-43344fde0ae6"
      },
      "execution_count": 7,
      "outputs": [
        {
          "output_type": "execute_result",
          "data": {
            "text/plain": [
              "array([1, 0, 1, 1, 1, 0, 1, 0, 0, 1])"
            ]
          },
          "metadata": {},
          "execution_count": 7
        }
      ]
    },
    {
      "cell_type": "code",
      "source": [
        ""
      ],
      "metadata": {
        "id": "cgTBp73d1cYd"
      },
      "execution_count": null,
      "outputs": []
    }
  ]
}