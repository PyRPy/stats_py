{
 "cells": [
  {
   "cell_type": "code",
   "execution_count": 29,
   "metadata": {},
   "outputs": [],
   "source": [
    "# feature selection examples \n",
    "from sklearn.datasets import load_diabetes\n",
    "import pandas as pd\n",
    "import numpy as np\n",
    "import matplotlib.pyplot as plt\n",
    "from sklearn import (ensemble, model_selection, preprocessing, tree)\n",
    "from sklearn.metrics import (confusion_matrix, accuracy_score, classification_report)\n",
    "from sklearn.model_selection import (train_test_split)\n",
    "from sklearn.linear_model import LogisticRegression\n",
    "from sklearn.preprocessing import StandardScaler \n",
    "from sklearn.decomposition import PCA \n",
    "from sklearn.pipeline import Pipeline"
   ]
  },
  {
   "cell_type": "code",
   "execution_count": null,
   "metadata": {},
   "outputs": [],
   "source": [
    "## load breast cancer dataset\n",
    "from sklearn.datasets import load_breast_cancer\n",
    "data = load_breast_cancer()\n",
    "df = pd.DataFrame(data.data, columns = data.feature_names)"
   ]
  },
  {
   "cell_type": "code",
   "execution_count": 4,
   "metadata": {},
   "outputs": [],
   "source": [
    "y = data.target"
   ]
  },
  {
   "cell_type": "code",
   "execution_count": 7,
   "metadata": {},
   "outputs": [],
   "source": [
    "# y = df['target']\n",
    "X = df"
   ]
  },
  {
   "cell_type": "code",
   "execution_count": 8,
   "metadata": {},
   "outputs": [],
   "source": [
    "# split data into train and test \n",
    "X_train, X_test, y_train, y_test = train_test_split(\n",
    "    X, y, test_size=0.2, random_state=42)"
   ]
  },
  {
   "cell_type": "code",
   "execution_count": null,
   "metadata": {},
   "outputs": [],
   "source": [
    "# let's do some PCA before piping it into a classification problem \n",
    "pca = PCA(random_state=42)\n",
    "X_pca = pca.fit_transform(StandardScaler().fit_transform(X))"
   ]
  },
  {
   "cell_type": "code",
   "execution_count": null,
   "metadata": {},
   "outputs": [],
   "source": [
    "pca.explained_variance_ratio_"
   ]
  },
  {
   "cell_type": "code",
   "execution_count": null,
   "metadata": {},
   "outputs": [],
   "source": [
    "# scree plot, elbow indicates 6 components may explain the majority of the variance\n",
    "fig, ax = plt.subplots(figsize=(6, 4))\n",
    "ax.plot(pca.explained_variance_ratio_)\n",
    "ax.set(\n",
    "    xlabel = \"Component\",\n",
    "    ylabel = \"Percent of explained variance\",\n",
    "    title = \"Scree plot\",\n",
    "    ylim = (0, 0.5)\n",
    ")"
   ]
  },
  {
   "cell_type": "code",
   "execution_count": null,
   "metadata": {},
   "outputs": [],
   "source": [
    "# 6 or 7 components may explain 90% of the variance \n",
    "fig, ax = plt.subplots(figsize=(6, 4))\n",
    "ax.plot(\n",
    "    np.cumsum(pca.explained_variance_ratio_)\n",
    ")\n",
    "ax.set(\n",
    "    xlabel=\"Component\",\n",
    "    ylabel=\"Percent of Explained variance\",\n",
    "    title=\"Cumulative Variance\",\n",
    "    ylim=(0, 1),\n",
    ")"
   ]
  },
  {
   "cell_type": "code",
   "execution_count": null,
   "metadata": {},
   "outputs": [],
   "source": [
    "# this mapping is a little bit odd\n",
    "fig, ax = plt.subplots(figsize=(6, 4))\n",
    "plt.imshow(\n",
    "    pca.components_[0:8].T,\n",
    "    cmap=\"Spectral\",\n",
    "    vmin=-1,\n",
    "    vmax=1,\n",
    ")\n",
    "plt.yticks(range(len(X.columns)), X.columns)\n",
    "plt.xticks(range(8), range(1, 9))\n",
    "plt.xlabel(\"Principal Component\")\n",
    "plt.ylabel(\"Contribution\")\n",
    "plt.title(\n",
    "    \"Contribution of Features to Components\"\n",
    ")\n",
    "plt.colorbar()"
   ]
  },
  {
   "cell_type": "code",
   "execution_count": null,
   "metadata": {},
   "outputs": [],
   "source": [
    "fig, ax = plt.subplots(figsize=(8, 4))\n",
    "pd.DataFrame(\n",
    "    pca.components_[0:2], columns=X.columns\n",
    ").plot(kind=\"bar\", ax=ax).legend(\n",
    "    bbox_to_anchor=(1, 1)\n",
    ")"
   ]
  },
  {
   "cell_type": "code",
   "execution_count": null,
   "metadata": {},
   "outputs": [],
   "source": [
    "# pipe scaler, pca, logistic regression together\n",
    "# from PCA we know probably, 6 or 7 components are enough for preparing the input for classification"
   ]
  },
  {
   "cell_type": "code",
   "execution_count": 32,
   "metadata": {},
   "outputs": [],
   "source": [
    "clf6 = Pipeline([\n",
    "    ('Scale', StandardScaler()),\n",
    "    ('pca', PCA(n_components = 6)),\n",
    "    ('classifier', LogisticRegression())\n",
    "])"
   ]
  },
  {
   "cell_type": "code",
   "execution_count": null,
   "metadata": {},
   "outputs": [],
   "source": [
    "clf6.fit(X_train, y_train)"
   ]
  },
  {
   "cell_type": "code",
   "execution_count": null,
   "metadata": {},
   "outputs": [],
   "source": [
    "# make predictions and check performance (f1-score is slightly better!)\n",
    "y_pred = clf6.predict(X_test)\n",
    "print(classification_report(y_test, y_pred))"
   ]
  }
 ],
 "metadata": {
  "kernelspec": {
   "display_name": "myenv",
   "language": "python",
   "name": "python3"
  },
  "language_info": {
   "codemirror_mode": {
    "name": "ipython",
    "version": 3
   },
   "file_extension": ".py",
   "mimetype": "text/x-python",
   "name": "python",
   "nbconvert_exporter": "python",
   "pygments_lexer": "ipython3",
   "version": "3.13.1"
  }
 },
 "nbformat": 4,
 "nbformat_minor": 2
}
