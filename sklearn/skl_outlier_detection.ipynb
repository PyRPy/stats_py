{
 "cells": [
  {
   "cell_type": "code",
   "execution_count": 1,
   "metadata": {},
   "outputs": [],
   "source": [
    "# anomaly detection introduction \n",
    "# more or less than the clustering, except to separate the 'outliers' from the 'crowd'\n",
    "import numpy as np \n",
    "import matplotlib.pyplot as plt \n",
    "from sklearn.datasets import load_iris \n",
    "from sklearn.neighbors import LocalOutlierFactor "
   ]
  },
  {
   "cell_type": "code",
   "execution_count": null,
   "metadata": {},
   "outputs": [],
   "source": [
    "# get the data \n",
    "df = load_iris(as_frame = True).frame \n",
    "df.head()"
   ]
  },
  {
   "cell_type": "code",
   "execution_count": null,
   "metadata": {},
   "outputs": [],
   "source": [
    "# get 2-dimentional data, sepal length and sepal width \n",
    "X_sepal = df[['sepal length (cm)', 'sepal width (cm)']]\n",
    "X_sepal.head()"
   ]
  },
  {
   "cell_type": "code",
   "execution_count": 14,
   "metadata": {},
   "outputs": [],
   "source": [
    "# laod the local outlier factor model \n",
    "lof = LocalOutlierFactor(n_neighbors=4)\n",
    "lof.fit(X_sepal)\n",
    "scores = lof.negative_outlier_factor_\n"
   ]
  },
  {
   "cell_type": "code",
   "execution_count": null,
   "metadata": {},
   "outputs": [],
   "source": [
    "# find the index of the highest outlier scores \n",
    "outliers = np.argwhere(scores > np.percentile(scores, 95))\n",
    "print(outliers)"
   ]
  },
  {
   "cell_type": "code",
   "execution_count": null,
   "metadata": {},
   "outputs": [],
   "source": [
    "# plot outliers, there are 8 points \n",
    "colors = ['blue', 'red']\n",
    "for i in range(len(X_sepal)):\n",
    "    if i not in outliers:\n",
    "        plt.scatter(X_sepal.iloc[i, 0], X_sepal.iloc[i, 1], color = colors[0]) \n",
    "    else: \n",
    "        plt.scatter(X_sepal.iloc[i, 0], X_sepal.iloc[i, 1], color = colors[1])\n",
    "plt.xlabel('sepal length')\n",
    "plt.ylabel('sepal width')\n",
    "plt.title('Outlier found by LOF')\n",
    "plt.show()"
   ]
  }
 ],
 "metadata": {
  "kernelspec": {
   "display_name": "myenv",
   "language": "python",
   "name": "python3"
  },
  "language_info": {
   "codemirror_mode": {
    "name": "ipython",
    "version": 3
   },
   "file_extension": ".py",
   "mimetype": "text/x-python",
   "name": "python",
   "nbconvert_exporter": "python",
   "pygments_lexer": "ipython3",
   "version": "3.13.1"
  }
 },
 "nbformat": 4,
 "nbformat_minor": 2
}
