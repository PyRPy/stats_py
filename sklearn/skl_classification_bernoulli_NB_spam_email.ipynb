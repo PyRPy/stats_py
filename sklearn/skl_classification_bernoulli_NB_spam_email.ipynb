{
 "cells": [
  {
   "cell_type": "code",
   "execution_count": null,
   "metadata": {},
   "outputs": [],
   "source": [
    "# Spam Detection Using Bernoulli Naïve Bayes\n",
    "# example from chatGPT"
   ]
  },
  {
   "cell_type": "code",
   "execution_count": null,
   "metadata": {},
   "outputs": [],
   "source": [
    "from sklearn.feature_extraction.text import CountVectorizer\n",
    "from sklearn.naive_bayes import BernoulliNB\n",
    "from sklearn.model_selection import train_test_split\n",
    "from sklearn.metrics import accuracy_score"
   ]
  },
  {
   "cell_type": "code",
   "execution_count": null,
   "metadata": {},
   "outputs": [],
   "source": [
    "# Sample dataset: Spam (1) or Ham (0)\n",
    "emails = [\n",
    "    \"Win a free lottery now\",  # Spam\n",
    "    \"Your invoice is attached\",  # Ham\n",
    "    \"Claim your free prize\",  # Spam\n",
    "    \"Meeting at 10 AM\",  # Ham\n",
    "    \"Congratulations! You won a gift card\",  # Spam\n",
    "    \"Let's schedule a call\",  # Ham\n",
    "]\n",
    "\n",
    "labels = [1, 0, 1, 0, 1, 0]  # 1 = Spam, 0 = Ham\n"
   ]
  },
  {
   "cell_type": "code",
   "execution_count": null,
   "metadata": {},
   "outputs": [],
   "source": [
    "# Convert text to binary features (word presence)\n",
    "vectorizer = CountVectorizer(binary=True)  # Convert words into binary values (0 or 1)\n",
    "X = vectorizer.fit_transform(emails)"
   ]
  },
  {
   "cell_type": "code",
   "execution_count": null,
   "metadata": {},
   "outputs": [],
   "source": [
    "X"
   ]
  },
  {
   "cell_type": "code",
   "execution_count": null,
   "metadata": {},
   "outputs": [],
   "source": [
    "# Split dataset\n",
    "X_train, X_test, y_train, y_test = train_test_split(X, labels, test_size=0.3, random_state=42)"
   ]
  },
  {
   "cell_type": "code",
   "execution_count": null,
   "metadata": {},
   "outputs": [],
   "source": [
    "print(X_train)"
   ]
  },
  {
   "cell_type": "code",
   "execution_count": null,
   "metadata": {},
   "outputs": [],
   "source": [
    "# Train Bernoulli Naïve Bayes model\n",
    "bnb = BernoulliNB()\n",
    "bnb.fit(X_train, y_train)"
   ]
  },
  {
   "cell_type": "code",
   "execution_count": null,
   "metadata": {},
   "outputs": [],
   "source": [
    "# Make predictions\n",
    "y_pred = bnb.predict(X_test)\n",
    "\n",
    "# Evaluate accuracy\n",
    "print(f\"Accuracy: {accuracy_score(y_test, y_pred):.2f}\")"
   ]
  },
  {
   "cell_type": "code",
   "execution_count": null,
   "metadata": {},
   "outputs": [],
   "source": [
    "# Test on new email\n",
    "new_email = [\"You have won a free vacation\"]\n",
    "X_new = vectorizer.transform(new_email)\n",
    "prediction = bnb.predict(X_new)\n",
    "print(\"Spam\" if prediction[0] == 1 else \"Not Spam\")"
   ]
  },
  {
   "cell_type": "code",
   "execution_count": null,
   "metadata": {},
   "outputs": [],
   "source": [
    "# another example for transform text to sparse matrix \n",
    "emails = [\n",
    "    \"Win a free lottery\",  \n",
    "    \"Your invoice is attached\",  \n",
    "    \"Claim your free prize\"\n",
    "]\n",
    "\n",
    "# Convert text to binary word presence\n",
    "vectorizer = CountVectorizer(binary=True)\n",
    "X = vectorizer.fit_transform(emails)"
   ]
  },
  {
   "cell_type": "code",
   "execution_count": null,
   "metadata": {},
   "outputs": [],
   "source": [
    "# Print matrix\n",
    "print(X.toarray())  # Convert sparse matrix to dense format"
   ]
  },
  {
   "cell_type": "code",
   "execution_count": null,
   "metadata": {},
   "outputs": [],
   "source": [
    "# check the vocabulary mapping using\n",
    "print(vectorizer.get_feature_names_out())"
   ]
  },
  {
   "cell_type": "markdown",
   "metadata": {},
   "source": [
    "[[0 0 1 0 0 1 1 0]  # \"Win a free lottery\"\n",
    " [1 0 0 1 1 0 0 1]  # \"Your invoice is attached\"\n",
    " [0 1 1 0 0 0 0 1]] # \"Claim your free prize\""
   ]
  }
 ],
 "metadata": {
  "kernelspec": {
   "display_name": "myenv",
   "language": "python",
   "name": "python3"
  },
  "language_info": {
   "codemirror_mode": {
    "name": "ipython",
    "version": 3
   },
   "file_extension": ".py",
   "mimetype": "text/x-python",
   "name": "python",
   "nbconvert_exporter": "python",
   "pygments_lexer": "ipython3",
   "version": "3.13.1"
  }
 },
 "nbformat": 4,
 "nbformat_minor": 2
}
